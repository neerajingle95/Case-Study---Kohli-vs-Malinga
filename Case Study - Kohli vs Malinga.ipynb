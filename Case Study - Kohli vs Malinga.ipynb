{
 "cells": [
  {
   "cell_type": "markdown",
   "id": "2112e5ea",
   "metadata": {},
   "source": [
    "# The Ultimate Matchup\n",
    "Overall, in the IPLs before 2022, Virat Kohli is the highest run getter while Lasith Malinga is the highest wicket taker. Let's see how these giants of the game stack up against each other. Who has the upper hand?\n",
    "### Importing libraries"
   ]
  },
  {
   "cell_type": "code",
   "execution_count": 1,
   "id": "eb1f0a02",
   "metadata": {},
   "outputs": [],
   "source": [
    "import warnings\n",
    "warnings.filterwarnings('ignore')\n",
    "\n",
    "import pandas as pd\n",
    "import numpy as np\n",
    "\n",
    "import matplotlib.pyplot as plt\n",
    "\n",
    "#to display all rows columns \n",
    "pd.set_option('display.max_rows', None)\n",
    "pd.set_option('display.max_columns', None)  \n",
    "pd.set_option('display.expand_frame_repr', False)\n",
    "pd.set_option('max_colwidth', -1)"
   ]
  },
  {
   "cell_type": "markdown",
   "id": "e8ec9dfd",
   "metadata": {},
   "source": [
    "### Importing the dataset"
   ]
  },
  {
   "cell_type": "code",
   "execution_count": 2,
   "id": "f5eca183",
   "metadata": {},
   "outputs": [],
   "source": [
    "df = pd.read_csv('ipl_ball_by_ball_updated.csv')"
   ]
  },
  {
   "cell_type": "code",
   "execution_count": 3,
   "id": "4d126907",
   "metadata": {},
   "outputs": [
    {
     "data": {
      "text/html": [
       "<div>\n",
       "<style scoped>\n",
       "    .dataframe tbody tr th:only-of-type {\n",
       "        vertical-align: middle;\n",
       "    }\n",
       "\n",
       "    .dataframe tbody tr th {\n",
       "        vertical-align: top;\n",
       "    }\n",
       "\n",
       "    .dataframe thead th {\n",
       "        text-align: right;\n",
       "    }\n",
       "</style>\n",
       "<table border=\"1\" class=\"dataframe\">\n",
       "  <thead>\n",
       "    <tr style=\"text-align: right;\">\n",
       "      <th></th>\n",
       "      <th>match_id</th>\n",
       "      <th>season</th>\n",
       "      <th>start_date</th>\n",
       "      <th>venue</th>\n",
       "      <th>innings</th>\n",
       "      <th>ball</th>\n",
       "      <th>batting_team</th>\n",
       "      <th>bowling_team</th>\n",
       "      <th>striker</th>\n",
       "      <th>non_striker</th>\n",
       "      <th>bowler</th>\n",
       "      <th>runs_off_bat</th>\n",
       "      <th>extras</th>\n",
       "      <th>wides</th>\n",
       "      <th>noballs</th>\n",
       "      <th>byes</th>\n",
       "      <th>legbyes</th>\n",
       "      <th>penalty</th>\n",
       "      <th>wicket_type</th>\n",
       "      <th>player_dismissed</th>\n",
       "      <th>other_wicket_type</th>\n",
       "      <th>other_player_dismissed</th>\n",
       "    </tr>\n",
       "  </thead>\n",
       "  <tbody>\n",
       "    <tr>\n",
       "      <th>0</th>\n",
       "      <td>335982</td>\n",
       "      <td>2008</td>\n",
       "      <td>2008-04-18</td>\n",
       "      <td>M Chinnaswamy Stadium</td>\n",
       "      <td>2</td>\n",
       "      <td>6.8</td>\n",
       "      <td>Royal Challengers Bangalore</td>\n",
       "      <td>Kolkata Knight Riders</td>\n",
       "      <td>MV Boucher</td>\n",
       "      <td>CL White</td>\n",
       "      <td>AB Agarkar</td>\n",
       "      <td>4</td>\n",
       "      <td>0</td>\n",
       "      <td>NaN</td>\n",
       "      <td>NaN</td>\n",
       "      <td>NaN</td>\n",
       "      <td>NaN</td>\n",
       "      <td>NaN</td>\n",
       "      <td>NaN</td>\n",
       "      <td>NaN</td>\n",
       "      <td>NaN</td>\n",
       "      <td>NaN</td>\n",
       "    </tr>\n",
       "  </tbody>\n",
       "</table>\n",
       "</div>"
      ],
      "text/plain": [
       "   match_id  season  start_date                  venue  innings  ball                 batting_team           bowling_team     striker non_striker      bowler  runs_off_bat  extras  wides  noballs  byes  legbyes  penalty wicket_type player_dismissed  other_wicket_type  other_player_dismissed\n",
       "0  335982    2008    2008-04-18  M Chinnaswamy Stadium  2        6.8   Royal Challengers Bangalore  Kolkata Knight Riders  MV Boucher  CL White    AB Agarkar  4             0      NaN    NaN      NaN   NaN      NaN       NaN         NaN             NaN                NaN                    "
      ]
     },
     "execution_count": 3,
     "metadata": {},
     "output_type": "execute_result"
    }
   ],
   "source": [
    "df.head(1)"
   ]
  },
  {
   "cell_type": "markdown",
   "id": "d5c4b9d1",
   "metadata": {},
   "source": [
    "### Slicing the dataset"
   ]
  },
  {
   "cell_type": "code",
   "execution_count": 4,
   "id": "b58199ca",
   "metadata": {},
   "outputs": [
    {
     "data": {
      "text/plain": [
       "array([2, 1, 4, 3, 6, 5], dtype=int64)"
      ]
     },
     "execution_count": 4,
     "metadata": {},
     "output_type": "execute_result"
    }
   ],
   "source": [
    "df.innings.unique()"
   ]
  },
  {
   "cell_type": "markdown",
   "id": "2f3aa223",
   "metadata": {},
   "source": [
    "Innings 3, 4, 5 and 6 represent Super Overs. We shall exclude these from our analysis."
   ]
  },
  {
   "cell_type": "code",
   "execution_count": 5,
   "id": "da2d5074",
   "metadata": {},
   "outputs": [],
   "source": [
    "df = df[(df.innings == 1) | (df.innings == 2)]"
   ]
  },
  {
   "cell_type": "code",
   "execution_count": 6,
   "id": "7ef97fa2",
   "metadata": {},
   "outputs": [
    {
     "data": {
      "text/plain": [
       "array([2, 1], dtype=int64)"
      ]
     },
     "execution_count": 6,
     "metadata": {},
     "output_type": "execute_result"
    }
   ],
   "source": [
    "df.innings.unique()"
   ]
  },
  {
   "cell_type": "markdown",
   "id": "f63075a5",
   "metadata": {},
   "source": [
    "#### Getting the dataset with Kohli as striker and Malinga as bowler"
   ]
  },
  {
   "cell_type": "code",
   "execution_count": 7,
   "id": "1fe99142",
   "metadata": {},
   "outputs": [
    {
     "data": {
      "text/plain": [
       "array(['Royal Challengers Bangalore', 'Kolkata Knight Riders',\n",
       "       'Rajasthan Royals', 'Kings XI Punjab', 'Delhi Daredevils',\n",
       "       'Chennai Super Kings', 'Deccan Chargers', 'Mumbai Indians',\n",
       "       'Kochi Tuskers Kerala', 'Pune Warriors', 'Sunrisers Hyderabad',\n",
       "       'Rising Pune Supergiants', 'Gujarat Lions',\n",
       "       'Rising Pune Supergiant', 'Delhi Capitals', 'Punjab Kings'],\n",
       "      dtype=object)"
      ]
     },
     "execution_count": 7,
     "metadata": {},
     "output_type": "execute_result"
    }
   ],
   "source": [
    "df.batting_team.unique()"
   ]
  },
  {
   "cell_type": "code",
   "execution_count": 8,
   "id": "968c38c7",
   "metadata": {},
   "outputs": [
    {
     "data": {
      "text/plain": [
       "array(['MV Boucher', 'W Jaffer', 'JH Kallis', 'CL White', 'V Kohli',\n",
       "       'R Dravid', 'P Kumar', 'Z Khan', 'SB Joshi', 'AA Noffke',\n",
       "       'B Akhil', 'LRPL Taylor', 'S Chanderpaul', 'R Vinay Kumar',\n",
       "       'B Chipli', 'DW Steyn', 'Misbah-ul-Haq', 'DT Patil', 'A Kumble',\n",
       "       'J Arunkumar', 'Abdur Razzak', 'SP Goswami', 'KP Pietersen',\n",
       "       'RV Uthappa', 'JD Ryder', 'R Bishnoi', 'KV Sharma', 'Pankaj Singh',\n",
       "       'MK Pandey', 'RE van der Merwe', 'KP Appanna', 'D du Preez',\n",
       "       'EJG Morgan', 'A Mithun', 'S Sriram', 'AUK Pathan',\n",
       "       'AB de Villiers', 'TM Dilshan', 'SS Tiwary', 'MA Agarwal',\n",
       "       'DL Vettori', 'CA Pujara', 'JJ van der Wath', 'R Ninan',\n",
       "       'S Aravind', 'CH Gayle', 'J Syed Mohammad', 'M Kaif',\n",
       "       'LA Pomersbach', 'KB Arun Karthik', 'CK Langeveldt', 'AB McDonald',\n",
       "       'HV Patel', 'RR Bhatkal', 'M Muralitharan', 'P Parameswaran',\n",
       "       'KK Nair', 'DT Christian', 'MC Henriques', 'M Kartik',\n",
       "       'JD Unadkat', 'R Rampaul', 'KL Rahul', 'A Mukund', 'Yuvraj Singh',\n",
       "       'PA Patel', 'NJ Maddinson', 'JA Morkel', 'YV Takawale', 'MA Starc',\n",
       "       'AB Dinda', 'S Rana', 'VR Aaron', 'RR Rossouw', 'YS Chahal',\n",
       "       'VH Zol', 'AN Ahmed', 'KD Karthik', 'Mandeep Singh', 'DJG Sammy',\n",
       "       'SA Abbott', 'D Wiese', 'Iqbal Abdulla', 'MS Bisla', 'SN Khan',\n",
       "       'KM Jadhav', 'SR Watson', 'TM Head', 'KW Richardson', 'STR Binny',\n",
       "       'Sachin Baby', 'Parvez Rasool', 'CJ Jordan', 'TS Mills',\n",
       "       'A Choudhary', 'P Negi', 'Vishnu Vinod', 'AF Milne', 'S Badree',\n",
       "       'CR Woakes', 'BB McCullum', 'Q de Kock', 'Washington Sundar',\n",
       "       'CJ Anderson', 'UT Yadav', 'Mohammed Siraj', 'M Vohra',\n",
       "       'C de Grandhomme', 'TG Southee', 'M Ashwin', 'MM Ali',\n",
       "       'SO Hetmyer', 'S Dube', 'NA Saini', 'P Ray Barman', 'MP Stoinis',\n",
       "       'AD Nath', 'Gurkeerat Singh', 'H Klaasen', 'D Padikkal',\n",
       "       'JR Philippe', 'AJ Finch', 'I Udana', 'CH Morris', 'Shahbaz Ahmed',\n",
       "       'GJ Maxwell', 'RM Patidar', 'KA Jamieson', 'DR Sams', 'KS Bharat',\n",
       "       'PWH de Silva', 'TH David', 'GHS Garton'], dtype=object)"
      ]
     },
     "execution_count": 8,
     "metadata": {},
     "output_type": "execute_result"
    }
   ],
   "source": [
    "df[df.batting_team == 'Royal Challengers Bangalore']['striker'].unique()"
   ]
  },
  {
   "cell_type": "code",
   "execution_count": 9,
   "id": "7c2c9ec9",
   "metadata": {},
   "outputs": [
    {
     "data": {
      "text/plain": [
       "array(['DS Kulkarni', 'Harbhajan Singh', 'A Nehra', 'AM Nayar',\n",
       "       'ST Jayasuriya', 'SM Pollock', 'MA Khote', 'DJ Bravo',\n",
       "       'VS Yeligati', 'SD Chitnis', 'CRD Fernando', 'DJ Thornely',\n",
       "       'RR Raje', 'DR Smith', 'A Nel', 'SL Malinga', 'Z Khan',\n",
       "       'SR Tendulkar', 'JP Duminy', 'GR Napier', 'C Nanda', 'AM Rahane',\n",
       "       'RA Shaikh', 'R McLaren', 'R Sathish', 'AG Murtaza', 'KA Pollard',\n",
       "       'AN Ahmed', 'STR Binny', 'JEC Franklin', 'MM Patel', 'RG Sharma',\n",
       "       'A Symonds', 'TL Suman', 'RW Price', 'PP Ojha', 'RP Singh',\n",
       "       'CJ McKay', 'NLTC Perera', 'RJ Peterson', 'R Shukla', 'JJ Bumrah',\n",
       "       'MG Johnson', 'JDP Oram', 'R Dhawan', 'YS Chahal', 'P Suyal',\n",
       "       'GJ Maxwell', 'NM Coulter-Nile', 'CJ Anderson', 'P Kumar',\n",
       "       'LMP Simmons', 'S Gopal', 'K Santokie', 'M de Lange',\n",
       "       'R Vinay Kumar', 'J Suchith', 'MJ McClenaghan', 'HH Pandya',\n",
       "       'TG Southee', 'KH Pandya', 'N Rana', 'KV Sharma', 'M Markande',\n",
       "       'Mustafizur Rahman', 'PJ Sangwan', 'BCJ Cutting', 'A Dananjaya',\n",
       "       'Rasikh Salam', 'RD Chahar', 'JP Behrendorff', 'AS Joseph',\n",
       "       'J Yadav', 'AS Roy', 'BB Sran', 'TA Boult', 'JL Pattinson',\n",
       "       'M Jansen', 'AF Milne', 'JDS Neesham', 'PP Chawla'], dtype=object)"
      ]
     },
     "execution_count": 9,
     "metadata": {},
     "output_type": "execute_result"
    }
   ],
   "source": [
    "df[df.bowling_team == 'Mumbai Indians']['bowler'].unique()"
   ]
  },
  {
   "cell_type": "code",
   "execution_count": 10,
   "id": "36ecc396",
   "metadata": {},
   "outputs": [],
   "source": [
    "# player 1: V Kohli\n",
    "# player 2: SL Malinga"
   ]
  },
  {
   "cell_type": "code",
   "execution_count": 11,
   "id": "0763c671",
   "metadata": {},
   "outputs": [],
   "source": [
    "req_df = df[(df.striker == 'V Kohli') & (df.bowler == 'SL Malinga')]"
   ]
  },
  {
   "cell_type": "code",
   "execution_count": 12,
   "id": "3dcc7f10",
   "metadata": {},
   "outputs": [
    {
     "data": {
      "text/html": [
       "<div>\n",
       "<style scoped>\n",
       "    .dataframe tbody tr th:only-of-type {\n",
       "        vertical-align: middle;\n",
       "    }\n",
       "\n",
       "    .dataframe tbody tr th {\n",
       "        vertical-align: top;\n",
       "    }\n",
       "\n",
       "    .dataframe thead th {\n",
       "        text-align: right;\n",
       "    }\n",
       "</style>\n",
       "<table border=\"1\" class=\"dataframe\">\n",
       "  <thead>\n",
       "    <tr style=\"text-align: right;\">\n",
       "      <th></th>\n",
       "      <th>match_id</th>\n",
       "      <th>season</th>\n",
       "      <th>start_date</th>\n",
       "      <th>venue</th>\n",
       "      <th>innings</th>\n",
       "      <th>ball</th>\n",
       "      <th>batting_team</th>\n",
       "      <th>bowling_team</th>\n",
       "      <th>striker</th>\n",
       "      <th>non_striker</th>\n",
       "      <th>bowler</th>\n",
       "      <th>runs_off_bat</th>\n",
       "      <th>extras</th>\n",
       "      <th>wides</th>\n",
       "      <th>noballs</th>\n",
       "      <th>byes</th>\n",
       "      <th>legbyes</th>\n",
       "      <th>penalty</th>\n",
       "      <th>wicket_type</th>\n",
       "      <th>player_dismissed</th>\n",
       "      <th>other_wicket_type</th>\n",
       "      <th>other_player_dismissed</th>\n",
       "    </tr>\n",
       "  </thead>\n",
       "  <tbody>\n",
       "    <tr>\n",
       "      <th>22161</th>\n",
       "      <td>392218</td>\n",
       "      <td>2009</td>\n",
       "      <td>2009-05-10</td>\n",
       "      <td>St George's Park</td>\n",
       "      <td>2</td>\n",
       "      <td>1.4</td>\n",
       "      <td>Royal Challengers Bangalore</td>\n",
       "      <td>Mumbai Indians</td>\n",
       "      <td>V Kohli</td>\n",
       "      <td>JH Kallis</td>\n",
       "      <td>SL Malinga</td>\n",
       "      <td>1</td>\n",
       "      <td>0</td>\n",
       "      <td>NaN</td>\n",
       "      <td>NaN</td>\n",
       "      <td>NaN</td>\n",
       "      <td>NaN</td>\n",
       "      <td>NaN</td>\n",
       "      <td>NaN</td>\n",
       "      <td>NaN</td>\n",
       "      <td>NaN</td>\n",
       "      <td>NaN</td>\n",
       "    </tr>\n",
       "    <tr>\n",
       "      <th>22162</th>\n",
       "      <td>392218</td>\n",
       "      <td>2009</td>\n",
       "      <td>2009-05-10</td>\n",
       "      <td>St George's Park</td>\n",
       "      <td>2</td>\n",
       "      <td>1.2</td>\n",
       "      <td>Royal Challengers Bangalore</td>\n",
       "      <td>Mumbai Indians</td>\n",
       "      <td>V Kohli</td>\n",
       "      <td>JH Kallis</td>\n",
       "      <td>SL Malinga</td>\n",
       "      <td>0</td>\n",
       "      <td>1</td>\n",
       "      <td>1.0</td>\n",
       "      <td>NaN</td>\n",
       "      <td>NaN</td>\n",
       "      <td>NaN</td>\n",
       "      <td>NaN</td>\n",
       "      <td>NaN</td>\n",
       "      <td>NaN</td>\n",
       "      <td>NaN</td>\n",
       "      <td>NaN</td>\n",
       "    </tr>\n",
       "    <tr>\n",
       "      <th>22163</th>\n",
       "      <td>392218</td>\n",
       "      <td>2009</td>\n",
       "      <td>2009-05-10</td>\n",
       "      <td>St George's Park</td>\n",
       "      <td>2</td>\n",
       "      <td>1.1</td>\n",
       "      <td>Royal Challengers Bangalore</td>\n",
       "      <td>Mumbai Indians</td>\n",
       "      <td>V Kohli</td>\n",
       "      <td>JH Kallis</td>\n",
       "      <td>SL Malinga</td>\n",
       "      <td>0</td>\n",
       "      <td>1</td>\n",
       "      <td>1.0</td>\n",
       "      <td>NaN</td>\n",
       "      <td>NaN</td>\n",
       "      <td>NaN</td>\n",
       "      <td>NaN</td>\n",
       "      <td>NaN</td>\n",
       "      <td>NaN</td>\n",
       "      <td>NaN</td>\n",
       "      <td>NaN</td>\n",
       "    </tr>\n",
       "    <tr>\n",
       "      <th>22174</th>\n",
       "      <td>392218</td>\n",
       "      <td>2009</td>\n",
       "      <td>2009-05-10</td>\n",
       "      <td>St George's Park</td>\n",
       "      <td>2</td>\n",
       "      <td>1.3</td>\n",
       "      <td>Royal Challengers Bangalore</td>\n",
       "      <td>Mumbai Indians</td>\n",
       "      <td>V Kohli</td>\n",
       "      <td>JH Kallis</td>\n",
       "      <td>SL Malinga</td>\n",
       "      <td>0</td>\n",
       "      <td>0</td>\n",
       "      <td>NaN</td>\n",
       "      <td>NaN</td>\n",
       "      <td>NaN</td>\n",
       "      <td>NaN</td>\n",
       "      <td>NaN</td>\n",
       "      <td>NaN</td>\n",
       "      <td>NaN</td>\n",
       "      <td>NaN</td>\n",
       "      <td>NaN</td>\n",
       "    </tr>\n",
       "    <tr>\n",
       "      <th>43059</th>\n",
       "      <td>501205</td>\n",
       "      <td>2011</td>\n",
       "      <td>2011-04-12</td>\n",
       "      <td>M Chinnaswamy Stadium</td>\n",
       "      <td>1</td>\n",
       "      <td>2.5</td>\n",
       "      <td>Royal Challengers Bangalore</td>\n",
       "      <td>Mumbai Indians</td>\n",
       "      <td>V Kohli</td>\n",
       "      <td>TM Dilshan</td>\n",
       "      <td>SL Malinga</td>\n",
       "      <td>1</td>\n",
       "      <td>0</td>\n",
       "      <td>NaN</td>\n",
       "      <td>NaN</td>\n",
       "      <td>NaN</td>\n",
       "      <td>NaN</td>\n",
       "      <td>NaN</td>\n",
       "      <td>NaN</td>\n",
       "      <td>NaN</td>\n",
       "      <td>NaN</td>\n",
       "      <td>NaN</td>\n",
       "    </tr>\n",
       "  </tbody>\n",
       "</table>\n",
       "</div>"
      ],
      "text/plain": [
       "       match_id  season  start_date                  venue  innings  ball                 batting_team    bowling_team  striker non_striker      bowler  runs_off_bat  extras  wides  noballs  byes  legbyes  penalty wicket_type player_dismissed  other_wicket_type  other_player_dismissed\n",
       "22161  392218    2009    2009-05-10  St George's Park       2        1.4   Royal Challengers Bangalore  Mumbai Indians  V Kohli  JH Kallis   SL Malinga  1             0      NaN    NaN      NaN   NaN      NaN       NaN         NaN             NaN                NaN                    \n",
       "22162  392218    2009    2009-05-10  St George's Park       2        1.2   Royal Challengers Bangalore  Mumbai Indians  V Kohli  JH Kallis   SL Malinga  0             1       1.0   NaN      NaN   NaN      NaN       NaN         NaN             NaN                NaN                    \n",
       "22163  392218    2009    2009-05-10  St George's Park       2        1.1   Royal Challengers Bangalore  Mumbai Indians  V Kohli  JH Kallis   SL Malinga  0             1       1.0   NaN      NaN   NaN      NaN       NaN         NaN             NaN                NaN                    \n",
       "22174  392218    2009    2009-05-10  St George's Park       2        1.3   Royal Challengers Bangalore  Mumbai Indians  V Kohli  JH Kallis   SL Malinga  0             0      NaN    NaN      NaN   NaN      NaN       NaN         NaN             NaN                NaN                    \n",
       "43059  501205    2011    2011-04-12  M Chinnaswamy Stadium  1        2.5   Royal Challengers Bangalore  Mumbai Indians  V Kohli  TM Dilshan  SL Malinga  1             0      NaN    NaN      NaN   NaN      NaN       NaN         NaN             NaN                NaN                    "
      ]
     },
     "execution_count": 12,
     "metadata": {},
     "output_type": "execute_result"
    }
   ],
   "source": [
    "req_df.head()"
   ]
  },
  {
   "cell_type": "markdown",
   "id": "d717ce42",
   "metadata": {},
   "source": [
    "### Metrics\n",
    "Initially, we shall look at the following base metrics when Kohli and Malinga go head-to-head:\n",
    "- No. of runs scored\n",
    "- No. of balls faced\n",
    "- No. of times dismissed"
   ]
  },
  {
   "cell_type": "code",
   "execution_count": 13,
   "id": "15af4d27",
   "metadata": {},
   "outputs": [
    {
     "name": "stdout",
     "output_type": "stream",
     "text": [
      "Runs scored: 34\n"
     ]
    }
   ],
   "source": [
    "# runs scored\n",
    "print('Runs scored:', sum(req_df.runs_off_bat))"
   ]
  },
  {
   "cell_type": "code",
   "execution_count": 14,
   "id": "a1a3a5dd",
   "metadata": {},
   "outputs": [
    {
     "name": "stdout",
     "output_type": "stream",
     "text": [
      "Balls faced: 38\n"
     ]
    }
   ],
   "source": [
    "# balls faced\n",
    "print('Balls faced:', len(req_df))"
   ]
  },
  {
   "cell_type": "code",
   "execution_count": 15,
   "id": "ae054383",
   "metadata": {},
   "outputs": [
    {
     "name": "stdout",
     "output_type": "stream",
     "text": [
      "Times dismissed: 0\n"
     ]
    }
   ],
   "source": [
    "# outs\n",
    "print('Times dismissed:', len(req_df[req_df.player_dismissed == 'V Kohli']))"
   ]
  },
  {
   "cell_type": "code",
   "execution_count": 16,
   "id": "1c5d24fb",
   "metadata": {},
   "outputs": [
    {
     "name": "stdout",
     "output_type": "stream",
     "text": [
      "Strike rate: 89.47368421052632\n"
     ]
    }
   ],
   "source": [
    "# strike rate\n",
    "print('Strike rate:', 100*sum(req_df.runs_off_bat)/len(req_df))"
   ]
  },
  {
   "cell_type": "markdown",
   "id": "240b223a",
   "metadata": {},
   "source": [
    "### Malinga vs Batsmen\n",
    "Now, let's see how all batsmen have fared against Malinga in IPLs."
   ]
  },
  {
   "cell_type": "code",
   "execution_count": 17,
   "id": "b9f5be40",
   "metadata": {},
   "outputs": [
    {
     "data": {
      "text/html": [
       "<div>\n",
       "<style scoped>\n",
       "    .dataframe tbody tr th:only-of-type {\n",
       "        vertical-align: middle;\n",
       "    }\n",
       "\n",
       "    .dataframe tbody tr th {\n",
       "        vertical-align: top;\n",
       "    }\n",
       "\n",
       "    .dataframe thead th {\n",
       "        text-align: right;\n",
       "    }\n",
       "</style>\n",
       "<table border=\"1\" class=\"dataframe\">\n",
       "  <thead>\n",
       "    <tr style=\"text-align: right;\">\n",
       "      <th></th>\n",
       "      <th>match_id</th>\n",
       "      <th>season</th>\n",
       "      <th>start_date</th>\n",
       "      <th>venue</th>\n",
       "      <th>innings</th>\n",
       "      <th>ball</th>\n",
       "      <th>batting_team</th>\n",
       "      <th>bowling_team</th>\n",
       "      <th>striker</th>\n",
       "      <th>non_striker</th>\n",
       "      <th>bowler</th>\n",
       "      <th>runs_off_bat</th>\n",
       "      <th>extras</th>\n",
       "      <th>wides</th>\n",
       "      <th>noballs</th>\n",
       "      <th>byes</th>\n",
       "      <th>legbyes</th>\n",
       "      <th>penalty</th>\n",
       "      <th>wicket_type</th>\n",
       "      <th>player_dismissed</th>\n",
       "      <th>other_wicket_type</th>\n",
       "      <th>other_player_dismissed</th>\n",
       "    </tr>\n",
       "  </thead>\n",
       "  <tbody>\n",
       "    <tr>\n",
       "      <th>0</th>\n",
       "      <td>335982</td>\n",
       "      <td>2008</td>\n",
       "      <td>2008-04-18</td>\n",
       "      <td>M Chinnaswamy Stadium</td>\n",
       "      <td>2</td>\n",
       "      <td>6.8</td>\n",
       "      <td>Royal Challengers Bangalore</td>\n",
       "      <td>Kolkata Knight Riders</td>\n",
       "      <td>MV Boucher</td>\n",
       "      <td>CL White</td>\n",
       "      <td>AB Agarkar</td>\n",
       "      <td>4</td>\n",
       "      <td>0</td>\n",
       "      <td>NaN</td>\n",
       "      <td>NaN</td>\n",
       "      <td>NaN</td>\n",
       "      <td>NaN</td>\n",
       "      <td>NaN</td>\n",
       "      <td>NaN</td>\n",
       "      <td>NaN</td>\n",
       "      <td>NaN</td>\n",
       "      <td>NaN</td>\n",
       "    </tr>\n",
       "  </tbody>\n",
       "</table>\n",
       "</div>"
      ],
      "text/plain": [
       "   match_id  season  start_date                  venue  innings  ball                 batting_team           bowling_team     striker non_striker      bowler  runs_off_bat  extras  wides  noballs  byes  legbyes  penalty wicket_type player_dismissed  other_wicket_type  other_player_dismissed\n",
       "0  335982    2008    2008-04-18  M Chinnaswamy Stadium  2        6.8   Royal Challengers Bangalore  Kolkata Knight Riders  MV Boucher  CL White    AB Agarkar  4             0      NaN    NaN      NaN   NaN      NaN       NaN         NaN             NaN                NaN                    "
      ]
     },
     "execution_count": 17,
     "metadata": {},
     "output_type": "execute_result"
    }
   ],
   "source": [
    "df.head(1)"
   ]
  },
  {
   "cell_type": "code",
   "execution_count": 18,
   "id": "24d55b0a",
   "metadata": {},
   "outputs": [],
   "source": [
    "malinga_df = df[df.bowler == 'SL Malinga']"
   ]
  },
  {
   "cell_type": "code",
   "execution_count": 19,
   "id": "2fbb3d96",
   "metadata": {},
   "outputs": [
    {
     "data": {
      "text/html": [
       "<div>\n",
       "<style scoped>\n",
       "    .dataframe tbody tr th:only-of-type {\n",
       "        vertical-align: middle;\n",
       "    }\n",
       "\n",
       "    .dataframe tbody tr th {\n",
       "        vertical-align: top;\n",
       "    }\n",
       "\n",
       "    .dataframe thead th {\n",
       "        text-align: right;\n",
       "    }\n",
       "</style>\n",
       "<table border=\"1\" class=\"dataframe\">\n",
       "  <thead>\n",
       "    <tr style=\"text-align: right;\">\n",
       "      <th></th>\n",
       "      <th>match_id</th>\n",
       "      <th>season</th>\n",
       "      <th>start_date</th>\n",
       "      <th>venue</th>\n",
       "      <th>innings</th>\n",
       "      <th>ball</th>\n",
       "      <th>batting_team</th>\n",
       "      <th>bowling_team</th>\n",
       "      <th>striker</th>\n",
       "      <th>non_striker</th>\n",
       "      <th>bowler</th>\n",
       "      <th>runs_off_bat</th>\n",
       "      <th>extras</th>\n",
       "      <th>wides</th>\n",
       "      <th>noballs</th>\n",
       "      <th>byes</th>\n",
       "      <th>legbyes</th>\n",
       "      <th>penalty</th>\n",
       "      <th>wicket_type</th>\n",
       "      <th>player_dismissed</th>\n",
       "      <th>other_wicket_type</th>\n",
       "      <th>other_player_dismissed</th>\n",
       "    </tr>\n",
       "  </thead>\n",
       "  <tbody>\n",
       "    <tr>\n",
       "      <th>13561</th>\n",
       "      <td>392181</td>\n",
       "      <td>2009</td>\n",
       "      <td>2009-04-18</td>\n",
       "      <td>Newlands</td>\n",
       "      <td>2</td>\n",
       "      <td>19.7</td>\n",
       "      <td>Chennai Super Kings</td>\n",
       "      <td>Mumbai Indians</td>\n",
       "      <td>T Thushara</td>\n",
       "      <td>Joginder Sharma</td>\n",
       "      <td>SL Malinga</td>\n",
       "      <td>1</td>\n",
       "      <td>0</td>\n",
       "      <td>NaN</td>\n",
       "      <td>NaN</td>\n",
       "      <td>NaN</td>\n",
       "      <td>NaN</td>\n",
       "      <td>NaN</td>\n",
       "      <td>NaN</td>\n",
       "      <td>NaN</td>\n",
       "      <td>NaN</td>\n",
       "      <td>NaN</td>\n",
       "    </tr>\n",
       "    <tr>\n",
       "      <th>13562</th>\n",
       "      <td>392181</td>\n",
       "      <td>2009</td>\n",
       "      <td>2009-04-18</td>\n",
       "      <td>Newlands</td>\n",
       "      <td>2</td>\n",
       "      <td>19.6</td>\n",
       "      <td>Chennai Super Kings</td>\n",
       "      <td>Mumbai Indians</td>\n",
       "      <td>T Thushara</td>\n",
       "      <td>Joginder Sharma</td>\n",
       "      <td>SL Malinga</td>\n",
       "      <td>0</td>\n",
       "      <td>1</td>\n",
       "      <td>1.0</td>\n",
       "      <td>NaN</td>\n",
       "      <td>NaN</td>\n",
       "      <td>NaN</td>\n",
       "      <td>NaN</td>\n",
       "      <td>NaN</td>\n",
       "      <td>NaN</td>\n",
       "      <td>NaN</td>\n",
       "      <td>NaN</td>\n",
       "    </tr>\n",
       "    <tr>\n",
       "      <th>13563</th>\n",
       "      <td>392181</td>\n",
       "      <td>2009</td>\n",
       "      <td>2009-04-18</td>\n",
       "      <td>Newlands</td>\n",
       "      <td>2</td>\n",
       "      <td>19.5</td>\n",
       "      <td>Chennai Super Kings</td>\n",
       "      <td>Mumbai Indians</td>\n",
       "      <td>T Thushara</td>\n",
       "      <td>Joginder Sharma</td>\n",
       "      <td>SL Malinga</td>\n",
       "      <td>0</td>\n",
       "      <td>0</td>\n",
       "      <td>NaN</td>\n",
       "      <td>NaN</td>\n",
       "      <td>NaN</td>\n",
       "      <td>NaN</td>\n",
       "      <td>NaN</td>\n",
       "      <td>NaN</td>\n",
       "      <td>NaN</td>\n",
       "      <td>NaN</td>\n",
       "      <td>NaN</td>\n",
       "    </tr>\n",
       "    <tr>\n",
       "      <th>13564</th>\n",
       "      <td>392181</td>\n",
       "      <td>2009</td>\n",
       "      <td>2009-04-18</td>\n",
       "      <td>Newlands</td>\n",
       "      <td>2</td>\n",
       "      <td>19.4</td>\n",
       "      <td>Chennai Super Kings</td>\n",
       "      <td>Mumbai Indians</td>\n",
       "      <td>MS Dhoni</td>\n",
       "      <td>Joginder Sharma</td>\n",
       "      <td>SL Malinga</td>\n",
       "      <td>0</td>\n",
       "      <td>0</td>\n",
       "      <td>NaN</td>\n",
       "      <td>NaN</td>\n",
       "      <td>NaN</td>\n",
       "      <td>NaN</td>\n",
       "      <td>NaN</td>\n",
       "      <td>bowled</td>\n",
       "      <td>MS Dhoni</td>\n",
       "      <td>NaN</td>\n",
       "      <td>NaN</td>\n",
       "    </tr>\n",
       "    <tr>\n",
       "      <th>13565</th>\n",
       "      <td>392181</td>\n",
       "      <td>2009</td>\n",
       "      <td>2009-04-18</td>\n",
       "      <td>Newlands</td>\n",
       "      <td>2</td>\n",
       "      <td>19.3</td>\n",
       "      <td>Chennai Super Kings</td>\n",
       "      <td>Mumbai Indians</td>\n",
       "      <td>Joginder Sharma</td>\n",
       "      <td>MS Dhoni</td>\n",
       "      <td>SL Malinga</td>\n",
       "      <td>1</td>\n",
       "      <td>0</td>\n",
       "      <td>NaN</td>\n",
       "      <td>NaN</td>\n",
       "      <td>NaN</td>\n",
       "      <td>NaN</td>\n",
       "      <td>NaN</td>\n",
       "      <td>NaN</td>\n",
       "      <td>NaN</td>\n",
       "      <td>NaN</td>\n",
       "      <td>NaN</td>\n",
       "    </tr>\n",
       "  </tbody>\n",
       "</table>\n",
       "</div>"
      ],
      "text/plain": [
       "       match_id  season  start_date     venue  innings  ball         batting_team    bowling_team          striker      non_striker      bowler  runs_off_bat  extras  wides  noballs  byes  legbyes  penalty wicket_type player_dismissed  other_wicket_type  other_player_dismissed\n",
       "13561  392181    2009    2009-04-18  Newlands  2        19.7  Chennai Super Kings  Mumbai Indians  T Thushara       Joginder Sharma  SL Malinga  1             0      NaN    NaN      NaN   NaN      NaN       NaN         NaN             NaN                NaN                    \n",
       "13562  392181    2009    2009-04-18  Newlands  2        19.6  Chennai Super Kings  Mumbai Indians  T Thushara       Joginder Sharma  SL Malinga  0             1       1.0   NaN      NaN   NaN      NaN       NaN         NaN             NaN                NaN                    \n",
       "13563  392181    2009    2009-04-18  Newlands  2        19.5  Chennai Super Kings  Mumbai Indians  T Thushara       Joginder Sharma  SL Malinga  0             0      NaN    NaN      NaN   NaN      NaN       NaN         NaN             NaN                NaN                    \n",
       "13564  392181    2009    2009-04-18  Newlands  2        19.4  Chennai Super Kings  Mumbai Indians  MS Dhoni         Joginder Sharma  SL Malinga  0             0      NaN    NaN      NaN   NaN      NaN       bowled      MS Dhoni        NaN                NaN                    \n",
       "13565  392181    2009    2009-04-18  Newlands  2        19.3  Chennai Super Kings  Mumbai Indians  Joginder Sharma  MS Dhoni         SL Malinga  1             0      NaN    NaN      NaN   NaN      NaN       NaN         NaN             NaN                NaN                    "
      ]
     },
     "execution_count": 19,
     "metadata": {},
     "output_type": "execute_result"
    }
   ],
   "source": [
    "malinga_df.head()"
   ]
  },
  {
   "cell_type": "code",
   "execution_count": 20,
   "id": "c562e151",
   "metadata": {},
   "outputs": [],
   "source": [
    "# runs scored by each batsman\n",
    "mdf1 = pd.DataFrame(malinga_df.groupby('striker')['runs_off_bat'].sum()).reset_index()"
   ]
  },
  {
   "cell_type": "code",
   "execution_count": 21,
   "id": "ca17bec7",
   "metadata": {},
   "outputs": [
    {
     "data": {
      "text/html": [
       "<div>\n",
       "<style scoped>\n",
       "    .dataframe tbody tr th:only-of-type {\n",
       "        vertical-align: middle;\n",
       "    }\n",
       "\n",
       "    .dataframe tbody tr th {\n",
       "        vertical-align: top;\n",
       "    }\n",
       "\n",
       "    .dataframe thead th {\n",
       "        text-align: right;\n",
       "    }\n",
       "</style>\n",
       "<table border=\"1\" class=\"dataframe\">\n",
       "  <thead>\n",
       "    <tr style=\"text-align: right;\">\n",
       "      <th></th>\n",
       "      <th>striker</th>\n",
       "      <th>runs_off_bat</th>\n",
       "    </tr>\n",
       "  </thead>\n",
       "  <tbody>\n",
       "    <tr>\n",
       "      <th>0</th>\n",
       "      <td>A Ashish Reddy</td>\n",
       "      <td>3</td>\n",
       "    </tr>\n",
       "    <tr>\n",
       "      <th>1</th>\n",
       "      <td>A Flintoff</td>\n",
       "      <td>0</td>\n",
       "    </tr>\n",
       "    <tr>\n",
       "      <th>2</th>\n",
       "      <td>A Kumble</td>\n",
       "      <td>1</td>\n",
       "    </tr>\n",
       "    <tr>\n",
       "      <th>3</th>\n",
       "      <td>A Mishra</td>\n",
       "      <td>5</td>\n",
       "    </tr>\n",
       "    <tr>\n",
       "      <th>4</th>\n",
       "      <td>A Nehra</td>\n",
       "      <td>0</td>\n",
       "    </tr>\n",
       "  </tbody>\n",
       "</table>\n",
       "</div>"
      ],
      "text/plain": [
       "          striker  runs_off_bat\n",
       "0  A Ashish Reddy  3           \n",
       "1  A Flintoff      0           \n",
       "2  A Kumble        1           \n",
       "3  A Mishra        5           \n",
       "4  A Nehra         0           "
      ]
     },
     "execution_count": 21,
     "metadata": {},
     "output_type": "execute_result"
    }
   ],
   "source": [
    "mdf1.head()"
   ]
  },
  {
   "cell_type": "code",
   "execution_count": 22,
   "id": "d10da0aa",
   "metadata": {},
   "outputs": [],
   "source": [
    "mdf2 = pd.DataFrame(malinga_df.groupby('striker')['ball'].count()).reset_index()"
   ]
  },
  {
   "cell_type": "code",
   "execution_count": 23,
   "id": "df5422ec",
   "metadata": {},
   "outputs": [
    {
     "data": {
      "text/html": [
       "<div>\n",
       "<style scoped>\n",
       "    .dataframe tbody tr th:only-of-type {\n",
       "        vertical-align: middle;\n",
       "    }\n",
       "\n",
       "    .dataframe tbody tr th {\n",
       "        vertical-align: top;\n",
       "    }\n",
       "\n",
       "    .dataframe thead th {\n",
       "        text-align: right;\n",
       "    }\n",
       "</style>\n",
       "<table border=\"1\" class=\"dataframe\">\n",
       "  <thead>\n",
       "    <tr style=\"text-align: right;\">\n",
       "      <th></th>\n",
       "      <th>striker</th>\n",
       "      <th>ball</th>\n",
       "    </tr>\n",
       "  </thead>\n",
       "  <tbody>\n",
       "    <tr>\n",
       "      <th>0</th>\n",
       "      <td>A Ashish Reddy</td>\n",
       "      <td>4</td>\n",
       "    </tr>\n",
       "    <tr>\n",
       "      <th>1</th>\n",
       "      <td>A Flintoff</td>\n",
       "      <td>4</td>\n",
       "    </tr>\n",
       "    <tr>\n",
       "      <th>2</th>\n",
       "      <td>A Kumble</td>\n",
       "      <td>1</td>\n",
       "    </tr>\n",
       "    <tr>\n",
       "      <th>3</th>\n",
       "      <td>A Mishra</td>\n",
       "      <td>15</td>\n",
       "    </tr>\n",
       "    <tr>\n",
       "      <th>4</th>\n",
       "      <td>A Nehra</td>\n",
       "      <td>3</td>\n",
       "    </tr>\n",
       "  </tbody>\n",
       "</table>\n",
       "</div>"
      ],
      "text/plain": [
       "          striker  ball\n",
       "0  A Ashish Reddy  4   \n",
       "1  A Flintoff      4   \n",
       "2  A Kumble        1   \n",
       "3  A Mishra        15  \n",
       "4  A Nehra         3   "
      ]
     },
     "execution_count": 23,
     "metadata": {},
     "output_type": "execute_result"
    }
   ],
   "source": [
    "mdf2.head()"
   ]
  },
  {
   "cell_type": "code",
   "execution_count": 24,
   "id": "731709ed",
   "metadata": {},
   "outputs": [],
   "source": [
    "mdf3 = mdf1.merge(mdf2, on = 'striker', how = 'left')"
   ]
  },
  {
   "cell_type": "code",
   "execution_count": 25,
   "id": "6f129ff6",
   "metadata": {},
   "outputs": [
    {
     "data": {
      "text/html": [
       "<div>\n",
       "<style scoped>\n",
       "    .dataframe tbody tr th:only-of-type {\n",
       "        vertical-align: middle;\n",
       "    }\n",
       "\n",
       "    .dataframe tbody tr th {\n",
       "        vertical-align: top;\n",
       "    }\n",
       "\n",
       "    .dataframe thead th {\n",
       "        text-align: right;\n",
       "    }\n",
       "</style>\n",
       "<table border=\"1\" class=\"dataframe\">\n",
       "  <thead>\n",
       "    <tr style=\"text-align: right;\">\n",
       "      <th></th>\n",
       "      <th>striker</th>\n",
       "      <th>runs_off_bat</th>\n",
       "      <th>ball</th>\n",
       "    </tr>\n",
       "  </thead>\n",
       "  <tbody>\n",
       "    <tr>\n",
       "      <th>0</th>\n",
       "      <td>A Ashish Reddy</td>\n",
       "      <td>3</td>\n",
       "      <td>4</td>\n",
       "    </tr>\n",
       "  </tbody>\n",
       "</table>\n",
       "</div>"
      ],
      "text/plain": [
       "          striker  runs_off_bat  ball\n",
       "0  A Ashish Reddy  3             4   "
      ]
     },
     "execution_count": 25,
     "metadata": {},
     "output_type": "execute_result"
    }
   ],
   "source": [
    "mdf3.head(1)"
   ]
  },
  {
   "cell_type": "code",
   "execution_count": 26,
   "id": "955b6b5b",
   "metadata": {},
   "outputs": [],
   "source": [
    "mdf3['strike_rate'] = 100*mdf3['runs_off_bat']/mdf3['ball']"
   ]
  },
  {
   "cell_type": "code",
   "execution_count": 27,
   "id": "3b3da23f",
   "metadata": {},
   "outputs": [
    {
     "data": {
      "text/html": [
       "<div>\n",
       "<style scoped>\n",
       "    .dataframe tbody tr th:only-of-type {\n",
       "        vertical-align: middle;\n",
       "    }\n",
       "\n",
       "    .dataframe tbody tr th {\n",
       "        vertical-align: top;\n",
       "    }\n",
       "\n",
       "    .dataframe thead th {\n",
       "        text-align: right;\n",
       "    }\n",
       "</style>\n",
       "<table border=\"1\" class=\"dataframe\">\n",
       "  <thead>\n",
       "    <tr style=\"text-align: right;\">\n",
       "      <th></th>\n",
       "      <th>striker</th>\n",
       "      <th>runs_off_bat</th>\n",
       "      <th>ball</th>\n",
       "      <th>strike_rate</th>\n",
       "    </tr>\n",
       "  </thead>\n",
       "  <tbody>\n",
       "    <tr>\n",
       "      <th>0</th>\n",
       "      <td>A Ashish Reddy</td>\n",
       "      <td>3</td>\n",
       "      <td>4</td>\n",
       "      <td>75.0</td>\n",
       "    </tr>\n",
       "  </tbody>\n",
       "</table>\n",
       "</div>"
      ],
      "text/plain": [
       "          striker  runs_off_bat  ball  strike_rate\n",
       "0  A Ashish Reddy  3             4     75.0       "
      ]
     },
     "execution_count": 27,
     "metadata": {},
     "output_type": "execute_result"
    }
   ],
   "source": [
    "mdf3.head(1)"
   ]
  },
  {
   "cell_type": "markdown",
   "id": "0685aa5d",
   "metadata": {},
   "source": [
    "Let's consider only those batsmen who have faced at least 30 balls against Malinga."
   ]
  },
  {
   "cell_type": "code",
   "execution_count": 28,
   "id": "5d029849",
   "metadata": {},
   "outputs": [],
   "source": [
    "mdf3 = mdf3[mdf3.ball >= 30]"
   ]
  },
  {
   "cell_type": "code",
   "execution_count": 29,
   "id": "f4921e5d",
   "metadata": {},
   "outputs": [
    {
     "data": {
      "text/html": [
       "<div>\n",
       "<style scoped>\n",
       "    .dataframe tbody tr th:only-of-type {\n",
       "        vertical-align: middle;\n",
       "    }\n",
       "\n",
       "    .dataframe tbody tr th {\n",
       "        vertical-align: top;\n",
       "    }\n",
       "\n",
       "    .dataframe thead th {\n",
       "        text-align: right;\n",
       "    }\n",
       "</style>\n",
       "<table border=\"1\" class=\"dataframe\">\n",
       "  <thead>\n",
       "    <tr style=\"text-align: right;\">\n",
       "      <th></th>\n",
       "      <th>striker</th>\n",
       "      <th>runs_off_bat</th>\n",
       "      <th>ball</th>\n",
       "      <th>strike_rate</th>\n",
       "    </tr>\n",
       "  </thead>\n",
       "  <tbody>\n",
       "    <tr>\n",
       "      <th>11</th>\n",
       "      <td>AB de Villiers</td>\n",
       "      <td>124</td>\n",
       "      <td>64</td>\n",
       "      <td>193.750000</td>\n",
       "    </tr>\n",
       "    <tr>\n",
       "      <th>12</th>\n",
       "      <td>AC Gilchrist</td>\n",
       "      <td>34</td>\n",
       "      <td>32</td>\n",
       "      <td>106.250000</td>\n",
       "    </tr>\n",
       "    <tr>\n",
       "      <th>22</th>\n",
       "      <td>AM Rahane</td>\n",
       "      <td>48</td>\n",
       "      <td>54</td>\n",
       "      <td>88.888889</td>\n",
       "    </tr>\n",
       "    <tr>\n",
       "      <th>35</th>\n",
       "      <td>BB McCullum</td>\n",
       "      <td>81</td>\n",
       "      <td>65</td>\n",
       "      <td>124.615385</td>\n",
       "    </tr>\n",
       "    <tr>\n",
       "      <th>37</th>\n",
       "      <td>BJ Hodge</td>\n",
       "      <td>41</td>\n",
       "      <td>43</td>\n",
       "      <td>95.348837</td>\n",
       "    </tr>\n",
       "  </tbody>\n",
       "</table>\n",
       "</div>"
      ],
      "text/plain": [
       "           striker  runs_off_bat  ball  strike_rate\n",
       "11  AB de Villiers  124           64    193.750000 \n",
       "12  AC Gilchrist    34            32    106.250000 \n",
       "22  AM Rahane       48            54    88.888889  \n",
       "35  BB McCullum     81            65    124.615385 \n",
       "37  BJ Hodge        41            43    95.348837  "
      ]
     },
     "execution_count": 29,
     "metadata": {},
     "output_type": "execute_result"
    }
   ],
   "source": [
    "mdf3.head()"
   ]
  },
  {
   "cell_type": "markdown",
   "id": "1cf72632",
   "metadata": {},
   "source": [
    "### Kohli vs Bowlers\n",
    "Now, let's see how Kohli has fared against all the bowlers in IPLs."
   ]
  },
  {
   "cell_type": "code",
   "execution_count": 30,
   "id": "3d1cc82e",
   "metadata": {},
   "outputs": [],
   "source": [
    "kohli_df = df[df.striker =='V Kohli']"
   ]
  },
  {
   "cell_type": "code",
   "execution_count": 31,
   "id": "bc8b8737",
   "metadata": {},
   "outputs": [],
   "source": [
    "# runs conceded by each bowler\n",
    "kdf1 = pd.DataFrame(kohli_df.groupby('bowler')['runs_off_bat'].sum()).reset_index()"
   ]
  },
  {
   "cell_type": "code",
   "execution_count": 32,
   "id": "e4a11a2e",
   "metadata": {},
   "outputs": [
    {
     "data": {
      "text/html": [
       "<div>\n",
       "<style scoped>\n",
       "    .dataframe tbody tr th:only-of-type {\n",
       "        vertical-align: middle;\n",
       "    }\n",
       "\n",
       "    .dataframe tbody tr th {\n",
       "        vertical-align: top;\n",
       "    }\n",
       "\n",
       "    .dataframe thead th {\n",
       "        text-align: right;\n",
       "    }\n",
       "</style>\n",
       "<table border=\"1\" class=\"dataframe\">\n",
       "  <thead>\n",
       "    <tr style=\"text-align: right;\">\n",
       "      <th></th>\n",
       "      <th>bowler</th>\n",
       "      <th>runs_off_bat</th>\n",
       "    </tr>\n",
       "  </thead>\n",
       "  <tbody>\n",
       "    <tr>\n",
       "      <th>0</th>\n",
       "      <td>A Ashish Reddy</td>\n",
       "      <td>32</td>\n",
       "    </tr>\n",
       "    <tr>\n",
       "      <th>1</th>\n",
       "      <td>A Chandila</td>\n",
       "      <td>15</td>\n",
       "    </tr>\n",
       "    <tr>\n",
       "      <th>2</th>\n",
       "      <td>A Flintoff</td>\n",
       "      <td>1</td>\n",
       "    </tr>\n",
       "    <tr>\n",
       "      <th>3</th>\n",
       "      <td>A Mishra</td>\n",
       "      <td>158</td>\n",
       "    </tr>\n",
       "    <tr>\n",
       "      <th>4</th>\n",
       "      <td>A Nehra</td>\n",
       "      <td>60</td>\n",
       "    </tr>\n",
       "  </tbody>\n",
       "</table>\n",
       "</div>"
      ],
      "text/plain": [
       "           bowler  runs_off_bat\n",
       "0  A Ashish Reddy  32          \n",
       "1  A Chandila      15          \n",
       "2  A Flintoff      1           \n",
       "3  A Mishra        158         \n",
       "4  A Nehra         60          "
      ]
     },
     "execution_count": 32,
     "metadata": {},
     "output_type": "execute_result"
    }
   ],
   "source": [
    "kdf1.head()"
   ]
  },
  {
   "cell_type": "code",
   "execution_count": 33,
   "id": "0785a827",
   "metadata": {},
   "outputs": [],
   "source": [
    "kdf2 = pd.DataFrame(kohli_df.groupby('bowler')['ball'].count()).reset_index()"
   ]
  },
  {
   "cell_type": "code",
   "execution_count": 34,
   "id": "321394bf",
   "metadata": {},
   "outputs": [
    {
     "data": {
      "text/html": [
       "<div>\n",
       "<style scoped>\n",
       "    .dataframe tbody tr th:only-of-type {\n",
       "        vertical-align: middle;\n",
       "    }\n",
       "\n",
       "    .dataframe tbody tr th {\n",
       "        vertical-align: top;\n",
       "    }\n",
       "\n",
       "    .dataframe thead th {\n",
       "        text-align: right;\n",
       "    }\n",
       "</style>\n",
       "<table border=\"1\" class=\"dataframe\">\n",
       "  <thead>\n",
       "    <tr style=\"text-align: right;\">\n",
       "      <th></th>\n",
       "      <th>bowler</th>\n",
       "      <th>ball</th>\n",
       "    </tr>\n",
       "  </thead>\n",
       "  <tbody>\n",
       "    <tr>\n",
       "      <th>0</th>\n",
       "      <td>A Ashish Reddy</td>\n",
       "      <td>26</td>\n",
       "    </tr>\n",
       "    <tr>\n",
       "      <th>1</th>\n",
       "      <td>A Chandila</td>\n",
       "      <td>15</td>\n",
       "    </tr>\n",
       "    <tr>\n",
       "      <th>2</th>\n",
       "      <td>A Flintoff</td>\n",
       "      <td>4</td>\n",
       "    </tr>\n",
       "    <tr>\n",
       "      <th>3</th>\n",
       "      <td>A Mishra</td>\n",
       "      <td>103</td>\n",
       "    </tr>\n",
       "    <tr>\n",
       "      <th>4</th>\n",
       "      <td>A Nehra</td>\n",
       "      <td>57</td>\n",
       "    </tr>\n",
       "  </tbody>\n",
       "</table>\n",
       "</div>"
      ],
      "text/plain": [
       "           bowler  ball\n",
       "0  A Ashish Reddy  26  \n",
       "1  A Chandila      15  \n",
       "2  A Flintoff      4   \n",
       "3  A Mishra        103 \n",
       "4  A Nehra         57  "
      ]
     },
     "execution_count": 34,
     "metadata": {},
     "output_type": "execute_result"
    }
   ],
   "source": [
    "kdf2.head()"
   ]
  },
  {
   "cell_type": "code",
   "execution_count": 35,
   "id": "5e2ddc18",
   "metadata": {},
   "outputs": [],
   "source": [
    "kdf3 = kdf1.merge(kdf2, on = 'bowler', how = 'left')"
   ]
  },
  {
   "cell_type": "code",
   "execution_count": 36,
   "id": "16301c33",
   "metadata": {},
   "outputs": [
    {
     "data": {
      "text/html": [
       "<div>\n",
       "<style scoped>\n",
       "    .dataframe tbody tr th:only-of-type {\n",
       "        vertical-align: middle;\n",
       "    }\n",
       "\n",
       "    .dataframe tbody tr th {\n",
       "        vertical-align: top;\n",
       "    }\n",
       "\n",
       "    .dataframe thead th {\n",
       "        text-align: right;\n",
       "    }\n",
       "</style>\n",
       "<table border=\"1\" class=\"dataframe\">\n",
       "  <thead>\n",
       "    <tr style=\"text-align: right;\">\n",
       "      <th></th>\n",
       "      <th>bowler</th>\n",
       "      <th>runs_off_bat</th>\n",
       "      <th>ball</th>\n",
       "    </tr>\n",
       "  </thead>\n",
       "  <tbody>\n",
       "    <tr>\n",
       "      <th>0</th>\n",
       "      <td>A Ashish Reddy</td>\n",
       "      <td>32</td>\n",
       "      <td>26</td>\n",
       "    </tr>\n",
       "  </tbody>\n",
       "</table>\n",
       "</div>"
      ],
      "text/plain": [
       "           bowler  runs_off_bat  ball\n",
       "0  A Ashish Reddy  32            26  "
      ]
     },
     "execution_count": 36,
     "metadata": {},
     "output_type": "execute_result"
    }
   ],
   "source": [
    "kdf3.head(1)"
   ]
  },
  {
   "cell_type": "code",
   "execution_count": 37,
   "id": "84674753",
   "metadata": {},
   "outputs": [],
   "source": [
    "kdf3['strike_rate'] = 100*kdf3['runs_off_bat']/kdf3['ball']"
   ]
  },
  {
   "cell_type": "code",
   "execution_count": 38,
   "id": "9f74b56e",
   "metadata": {},
   "outputs": [
    {
     "data": {
      "text/html": [
       "<div>\n",
       "<style scoped>\n",
       "    .dataframe tbody tr th:only-of-type {\n",
       "        vertical-align: middle;\n",
       "    }\n",
       "\n",
       "    .dataframe tbody tr th {\n",
       "        vertical-align: top;\n",
       "    }\n",
       "\n",
       "    .dataframe thead th {\n",
       "        text-align: right;\n",
       "    }\n",
       "</style>\n",
       "<table border=\"1\" class=\"dataframe\">\n",
       "  <thead>\n",
       "    <tr style=\"text-align: right;\">\n",
       "      <th></th>\n",
       "      <th>bowler</th>\n",
       "      <th>runs_off_bat</th>\n",
       "      <th>ball</th>\n",
       "      <th>strike_rate</th>\n",
       "    </tr>\n",
       "  </thead>\n",
       "  <tbody>\n",
       "    <tr>\n",
       "      <th>0</th>\n",
       "      <td>A Ashish Reddy</td>\n",
       "      <td>32</td>\n",
       "      <td>26</td>\n",
       "      <td>123.076923</td>\n",
       "    </tr>\n",
       "    <tr>\n",
       "      <th>1</th>\n",
       "      <td>A Chandila</td>\n",
       "      <td>15</td>\n",
       "      <td>15</td>\n",
       "      <td>100.000000</td>\n",
       "    </tr>\n",
       "    <tr>\n",
       "      <th>2</th>\n",
       "      <td>A Flintoff</td>\n",
       "      <td>1</td>\n",
       "      <td>4</td>\n",
       "      <td>25.000000</td>\n",
       "    </tr>\n",
       "    <tr>\n",
       "      <th>3</th>\n",
       "      <td>A Mishra</td>\n",
       "      <td>158</td>\n",
       "      <td>103</td>\n",
       "      <td>153.398058</td>\n",
       "    </tr>\n",
       "    <tr>\n",
       "      <th>4</th>\n",
       "      <td>A Nehra</td>\n",
       "      <td>60</td>\n",
       "      <td>57</td>\n",
       "      <td>105.263158</td>\n",
       "    </tr>\n",
       "  </tbody>\n",
       "</table>\n",
       "</div>"
      ],
      "text/plain": [
       "           bowler  runs_off_bat  ball  strike_rate\n",
       "0  A Ashish Reddy  32            26    123.076923 \n",
       "1  A Chandila      15            15    100.000000 \n",
       "2  A Flintoff      1             4     25.000000  \n",
       "3  A Mishra        158           103   153.398058 \n",
       "4  A Nehra         60            57    105.263158 "
      ]
     },
     "execution_count": 38,
     "metadata": {},
     "output_type": "execute_result"
    }
   ],
   "source": [
    "kdf3.head()"
   ]
  },
  {
   "cell_type": "markdown",
   "id": "efbc4cab",
   "metadata": {},
   "source": [
    "Let's consider only those bowlers who have bowled at least 30 balls to Kohli."
   ]
  },
  {
   "cell_type": "code",
   "execution_count": 39,
   "id": "32187442",
   "metadata": {},
   "outputs": [],
   "source": [
    "kdf3 = kdf3[kdf3.ball >= 30]"
   ]
  },
  {
   "cell_type": "code",
   "execution_count": 40,
   "id": "5d1b5764",
   "metadata": {},
   "outputs": [],
   "source": [
    "mdf3.reset_index(inplace = True, drop = True)\n",
    "kdf3.reset_index(inplace = True, drop = True)"
   ]
  },
  {
   "cell_type": "code",
   "execution_count": 41,
   "id": "a38a5c36",
   "metadata": {},
   "outputs": [
    {
     "data": {
      "text/html": [
       "<div>\n",
       "<style scoped>\n",
       "    .dataframe tbody tr th:only-of-type {\n",
       "        vertical-align: middle;\n",
       "    }\n",
       "\n",
       "    .dataframe tbody tr th {\n",
       "        vertical-align: top;\n",
       "    }\n",
       "\n",
       "    .dataframe thead th {\n",
       "        text-align: right;\n",
       "    }\n",
       "</style>\n",
       "<table border=\"1\" class=\"dataframe\">\n",
       "  <thead>\n",
       "    <tr style=\"text-align: right;\">\n",
       "      <th></th>\n",
       "      <th>striker</th>\n",
       "      <th>runs_off_bat</th>\n",
       "      <th>ball</th>\n",
       "      <th>strike_rate</th>\n",
       "    </tr>\n",
       "  </thead>\n",
       "  <tbody>\n",
       "    <tr>\n",
       "      <th>0</th>\n",
       "      <td>AB de Villiers</td>\n",
       "      <td>124</td>\n",
       "      <td>64</td>\n",
       "      <td>193.750000</td>\n",
       "    </tr>\n",
       "    <tr>\n",
       "      <th>1</th>\n",
       "      <td>AC Gilchrist</td>\n",
       "      <td>34</td>\n",
       "      <td>32</td>\n",
       "      <td>106.250000</td>\n",
       "    </tr>\n",
       "    <tr>\n",
       "      <th>2</th>\n",
       "      <td>AM Rahane</td>\n",
       "      <td>48</td>\n",
       "      <td>54</td>\n",
       "      <td>88.888889</td>\n",
       "    </tr>\n",
       "    <tr>\n",
       "      <th>3</th>\n",
       "      <td>BB McCullum</td>\n",
       "      <td>81</td>\n",
       "      <td>65</td>\n",
       "      <td>124.615385</td>\n",
       "    </tr>\n",
       "    <tr>\n",
       "      <th>4</th>\n",
       "      <td>BJ Hodge</td>\n",
       "      <td>41</td>\n",
       "      <td>43</td>\n",
       "      <td>95.348837</td>\n",
       "    </tr>\n",
       "  </tbody>\n",
       "</table>\n",
       "</div>"
      ],
      "text/plain": [
       "          striker  runs_off_bat  ball  strike_rate\n",
       "0  AB de Villiers  124           64    193.750000 \n",
       "1  AC Gilchrist    34            32    106.250000 \n",
       "2  AM Rahane       48            54    88.888889  \n",
       "3  BB McCullum     81            65    124.615385 \n",
       "4  BJ Hodge        41            43    95.348837  "
      ]
     },
     "execution_count": 41,
     "metadata": {},
     "output_type": "execute_result"
    }
   ],
   "source": [
    "mdf3.head()"
   ]
  },
  {
   "cell_type": "code",
   "execution_count": 42,
   "id": "84a90d6c",
   "metadata": {},
   "outputs": [
    {
     "data": {
      "text/html": [
       "<div>\n",
       "<style scoped>\n",
       "    .dataframe tbody tr th:only-of-type {\n",
       "        vertical-align: middle;\n",
       "    }\n",
       "\n",
       "    .dataframe tbody tr th {\n",
       "        vertical-align: top;\n",
       "    }\n",
       "\n",
       "    .dataframe thead th {\n",
       "        text-align: right;\n",
       "    }\n",
       "</style>\n",
       "<table border=\"1\" class=\"dataframe\">\n",
       "  <thead>\n",
       "    <tr style=\"text-align: right;\">\n",
       "      <th></th>\n",
       "      <th>bowler</th>\n",
       "      <th>runs_off_bat</th>\n",
       "      <th>ball</th>\n",
       "      <th>strike_rate</th>\n",
       "    </tr>\n",
       "  </thead>\n",
       "  <tbody>\n",
       "    <tr>\n",
       "      <th>0</th>\n",
       "      <td>A Mishra</td>\n",
       "      <td>158</td>\n",
       "      <td>103</td>\n",
       "      <td>153.398058</td>\n",
       "    </tr>\n",
       "    <tr>\n",
       "      <th>1</th>\n",
       "      <td>A Nehra</td>\n",
       "      <td>60</td>\n",
       "      <td>57</td>\n",
       "      <td>105.263158</td>\n",
       "    </tr>\n",
       "    <tr>\n",
       "      <th>2</th>\n",
       "      <td>AB Dinda</td>\n",
       "      <td>36</td>\n",
       "      <td>30</td>\n",
       "      <td>120.000000</td>\n",
       "    </tr>\n",
       "    <tr>\n",
       "      <th>3</th>\n",
       "      <td>AD Russell</td>\n",
       "      <td>78</td>\n",
       "      <td>54</td>\n",
       "      <td>144.444444</td>\n",
       "    </tr>\n",
       "    <tr>\n",
       "      <th>4</th>\n",
       "      <td>AJ Tye</td>\n",
       "      <td>43</td>\n",
       "      <td>36</td>\n",
       "      <td>119.444444</td>\n",
       "    </tr>\n",
       "  </tbody>\n",
       "</table>\n",
       "</div>"
      ],
      "text/plain": [
       "       bowler  runs_off_bat  ball  strike_rate\n",
       "0  A Mishra    158           103   153.398058 \n",
       "1  A Nehra     60            57    105.263158 \n",
       "2  AB Dinda    36            30    120.000000 \n",
       "3  AD Russell  78            54    144.444444 \n",
       "4  AJ Tye      43            36    119.444444 "
      ]
     },
     "execution_count": 42,
     "metadata": {},
     "output_type": "execute_result"
    }
   ],
   "source": [
    "kdf3.head()"
   ]
  },
  {
   "cell_type": "markdown",
   "id": "27d50142",
   "metadata": {},
   "source": [
    "### Visualisations\n",
    "Let's see how different batsmen have fared against Malinga."
   ]
  },
  {
   "cell_type": "code",
   "execution_count": 43,
   "id": "f2555b85",
   "metadata": {},
   "outputs": [
    {
     "data": {
      "image/png": "[encoded data removed]",
      "text/plain": [
       "<Figure size 1152x576 with 1 Axes>"
      ]
     },
     "metadata": {
      "needs_background": "light"
     },
     "output_type": "display_data"
    }
   ],
   "source": [
    "plt.figure(figsize = (16, 8))\n",
    "plt.scatter(mdf3.strike_rate, mdf3.runs_off_bat)\n",
    "\n",
    "for i in range(len(mdf3)):\n",
    "    # plt.text(x, y, text)\n",
    "    if mdf3.striker[i] == 'V Kohli':\n",
    "        plt.text(mdf3['strike_rate'][i] + 1, mdf3['runs_off_bat'][i] - 1, mdf3['striker'][i], color='maroon')\n",
    "    else:\n",
    "        plt.text(mdf3['strike_rate'][i] + 1, mdf3['runs_off_bat'][i] - 1, mdf3['striker'][i])\n",
    "\n",
    "plt.axvline(150, ls = '--', color = 'grey')\n",
    "plt.axhline(100, ls = '--', color = 'grey')\n",
    "plt.title('Batsmen against Malinga in IPL (min 30 balls faced)', fontsize = 20)\n",
    "plt.xlabel('Strike rate')\n",
    "plt.ylabel('Runs scored')\n",
    "plt.show()"
   ]
  },
  {
   "cell_type": "code",
   "execution_count": 44,
   "id": "0c153f66",
   "metadata": {},
   "outputs": [
    {
     "data": {
      "image/png": "[encoded data removed]",
      "text/plain": [
       "<Figure size 1152x576 with 1 Axes>"
      ]
     },
     "metadata": {
      "needs_background": "light"
     },
     "output_type": "display_data"
    }
   ],
   "source": [
    "plt.figure(figsize = (16,8))\n",
    "plt.rcParams['axes.facecolor'] = '#fff7fb'\n",
    "plt.scatter(mdf3.strike_rate, mdf3.runs_off_bat)\n",
    "\n",
    "for i in range(len(mdf3)):\n",
    "    if mdf3.striker[i] == 'V Kohli':\n",
    "        plt.text(mdf3['strike_rate'][i] + 1, mdf3['runs_off_bat'][i] - 1, mdf3['striker'][i], color='maroon')\n",
    "    elif (mdf3.striker[i] == 'SR Watson'):\n",
    "        plt.text(mdf3['strike_rate'][i], mdf3['runs_off_bat'][i] + 1, mdf3['striker'][i])\n",
    "    elif (mdf3.striker[i] == 'AB de Villiers'):\n",
    "        plt.text(mdf3['strike_rate'][i] + 1, mdf3['runs_off_bat'][i] - 1, mdf3['striker'][i])\n",
    "        \n",
    "plt.axvline(150, ls = '--', color = 'grey')\n",
    "plt.axhline(100, ls = '--', color = 'grey')\n",
    "plt.title('Batsmen against Malinga in IPL (min 30 balls faced)', fontsize = 20)\n",
    "plt.xlabel('Strike rate')\n",
    "plt.ylabel('Runs scored')\n",
    "plt.show()"
   ]
  },
  {
   "cell_type": "markdown",
   "id": "1fee6555",
   "metadata": {},
   "source": [
    "We can see that Virat Kohli has struggled against Lasith Malinga. However, an interesting observation is that Shane Watson and AB de Villiers have totally dominated him by scoring over 120 runs with strike rates in excess of 180!\n",
    "\n",
    "Now, let's visualise Kohli's performances against all bowlers."
   ]
  },
  {
   "cell_type": "code",
   "execution_count": 45,
   "id": "dd085bc0",
   "metadata": {},
   "outputs": [
    {
     "data": {
      "image/png": "[encoded data removed]",
      "text/plain": [
       "<Figure size 1152x576 with 1 Axes>"
      ]
     },
     "metadata": {
      "needs_background": "light"
     },
     "output_type": "display_data"
    }
   ],
   "source": [
    "plt.figure(figsize = (16, 8))\n",
    "plt.scatter(kdf3.strike_rate, kdf3.runs_off_bat)\n",
    "\n",
    "for i in range(len(kdf3)):\n",
    "    # plt.text(x, y, text)\n",
    "    if kdf3.bowler[i] == 'SL Malinga':\n",
    "        plt.text(kdf3['strike_rate'][i] + 1, kdf3['runs_off_bat'][i] - 1, kdf3['bowler'][i], color='maroon')\n",
    "    elif (kdf3.bowler[i] == 'DJ Bravo') | (kdf3.bowler[i] == 'A Mishra') | (kdf3.bowler[i] == 'UT Yadav') | (kdf3.bowler[i] == 'JJ Bumrah') | (kdf3.bowler[i] == 'JJ Bumrah') | (kdf3.bowler[i] == 'KV Sharma'):\n",
    "        plt.text(kdf3['strike_rate'][i] + 1, kdf3['runs_off_bat'][i] - 1, kdf3['bowler'][i])\n",
    "    \n",
    "plt.axvline(140, ls = '--', color = 'grey')\n",
    "plt.axhline(120, ls = '--', color = 'grey')\n",
    "plt.title('Bowlers against Kohli in IPL (min 30 balls bowled)', fontsize = 20)\n",
    "plt.xlabel('Strike rate')\n",
    "plt.ylabel('Runs scored')\n",
    "plt.show()"
   ]
  },
  {
   "cell_type": "markdown",
   "id": "1d9c5650",
   "metadata": {},
   "source": [
    "Here again, Kohli has struggled against Malinga which we already established in the previous visualisation. However, we can also see that Kohli has dominated Bravo, Mishra, Bumrah and Umesh Yadav with runs scored above 120 and strike rates above 140. There is another outlier, Karn Sharma, against whom Kohli has an overall strike rate touching 200."
   ]
  },
  {
   "cell_type": "code",
   "execution_count": null,
   "id": "306383ad",
   "metadata": {},
   "outputs": [],
   "source": []
  }
 ],
 "metadata": {
  "kernelspec": {
   "display_name": "Python 3",
   "language": "python",
   "name": "python3"
  },
  "language_info": {
   "codemirror_mode": {
    "name": "ipython",
    "version": 3
   },
   "file_extension": ".py",
   "mimetype": "text/x-python",
   "name": "python",
   "nbconvert_exporter": "python",
   "pygments_lexer": "ipython3",
   "version": "3.8.8"
  }
 },
 "nbformat": 4,
 "nbformat_minor": 5
}
